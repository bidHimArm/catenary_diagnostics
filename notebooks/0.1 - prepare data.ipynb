{
 "cells": [
  {
   "cell_type": "markdown",
   "metadata": {},
   "source": [
    "# Data preparation for model training for the MDDS\n",
    "\n",
    "The objective of this notebook is to arrange data in order to train the model for time processing prediction.\n",
    "\n"
   ]
  },
  {
   "cell_type": "code",
   "execution_count": null,
   "metadata": {},
   "outputs": [],
   "source": [
    "import os\n",
    "import re\n",
    "import numpy as np\n",
    "import pandas as pd\n",
    "from tqdm.notebook import tqdm"
   ]
  },
  {
   "cell_type": "code",
   "execution_count": null,
   "metadata": {},
   "outputs": [],
   "source": [
    "list_files = os.listdir('../data/BasedOnModelData/PreProcessData')\n",
    "os.listdir('../data/BasedOnModelData/PreProcessData')"
   ]
  },
  {
   "cell_type": "code",
   "execution_count": null,
   "metadata": {},
   "outputs": [],
   "source": [
    "from scipy.io import loadmat"
   ]
  },
  {
   "cell_type": "code",
   "execution_count": null,
   "metadata": {},
   "outputs": [],
   "source": [
    "fc_mat_data = loadmat('../data/BasedOnModelData/PreProcessData/data_splicesFc_160.mat')\n",
    "acc_mat_data = loadmat('../data/BasedOnModelData/PreProcessData/data_splicesAcc_160.mat')\n",
    "spn_mat_data = loadmat('../data/BasedOnModelData/PreProcessData/data_splicesName_160.mat')\n",
    "\n",
    "\n",
    "fc_mat_data = fc_mat_data['splicesFc'][0]\n",
    "acc_mat_data = acc_mat_data['splicesAcc'][0]\n",
    "spn_mat_data = spn_mat_data['splicesName'][0]"
   ]
  },
  {
   "cell_type": "code",
   "execution_count": null,
   "metadata": {},
   "outputs": [],
   "source": [
    "spn_mat_data[4][0]"
   ]
  },
  {
   "cell_type": "code",
   "execution_count": null,
   "metadata": {},
   "outputs": [],
   "source": [
    "print(np.max([mat.shape[1] for mat in fc_mat_data]))\n",
    "print(np.argmax([mat.shape[1] for mat in fc_mat_data]))"
   ]
  },
  {
   "cell_type": "code",
   "execution_count": null,
   "metadata": {},
   "outputs": [],
   "source": [
    "print(np.max([mat.shape[1] for mat in acc_mat_data]))\n",
    "print(np.argmax([mat.shape[1] for mat in acc_mat_data]))"
   ]
  },
  {
   "cell_type": "code",
   "execution_count": null,
   "metadata": {},
   "outputs": [],
   "source": [
    "longest_fc_mat = fc_mat_data[14]\n",
    "longest_acc_mat = acc_mat_data[14]\n",
    "\n",
    "df_append_fc = []  \n",
    "df_append_acc = []  \n",
    "\n",
    "for idx_mat, mat in tqdm(enumerate(fc_mat_data)):\n",
    "    len_diff = 574 - mat.shape[1]\n",
    "    \n",
    "    if len_diff != 0:\n",
    "        fill_array = np.empty((1000, len_diff))\n",
    "        fill_array[:] = np.nan\n",
    "        data_mat = np.hstack((mat, fill_array))\n",
    "    else:\n",
    "        data_mat=mat\n",
    "\n",
    "    col_idx = test = ['TS_' + str(ts_idx) for ts_idx in range(574)]\n",
    "    \n",
    "    df_fc_mat = pd.DataFrame(data=data_mat, columns=col_idx)\n",
    "    df_fc_mat['span_name'] = spn_mat_data[idx_mat][0]\n",
    "    \n",
    "    df_append_fc.append(df_fc_mat) \n",
    "    \n",
    "    \n",
    "    mat=acc_mat_data[idx_mat]\n",
    "    \n",
    "    if len_diff != 0:\n",
    "        fill_array = np.empty((1000, len_diff))\n",
    "        fill_array[:] = np.nan\n",
    "        data_mat = np.hstack((mat, fill_array))\n",
    "    else:\n",
    "        data_mat=mat\n",
    "\n",
    "    col_idx = test = ['TS_' + str(ts_idx) for ts_idx in range(574)]\n",
    "    \n",
    "    df_acc_mat = pd.DataFrame(data=data_mat, columns=col_idx)\n",
    "    df_acc_mat['span_name'] = spn_mat_data[idx_mat][0]\n",
    "    \n",
    "    df_append_acc.append(df_acc_mat) \n"
   ]
  },
  {
   "cell_type": "code",
   "execution_count": null,
   "metadata": {},
   "outputs": [],
   "source": [
    "spn_mat_data[idx_mat][0]"
   ]
  },
  {
   "cell_type": "code",
   "execution_count": null,
   "metadata": {},
   "outputs": [],
   "source": [
    "df_concatenate_fc = pd.concat(df_append_fc)"
   ]
  },
  {
   "cell_type": "code",
   "execution_count": null,
   "metadata": {},
   "outputs": [],
   "source": [
    "df_append_fc[0]"
   ]
  },
  {
   "cell_type": "code",
   "execution_count": null,
   "metadata": {},
   "outputs": [],
   "source": [
    "df_concatenate_fc = df_concatenate_fc.reset_index(drop=True)"
   ]
  },
  {
   "cell_type": "code",
   "execution_count": null,
   "metadata": {},
   "outputs": [],
   "source": [
    "df_concatenate_fc.head()"
   ]
  },
  {
   "cell_type": "code",
   "execution_count": null,
   "metadata": {},
   "outputs": [],
   "source": [
    "df_concatenate_acc = pd.concat(df_append_acc)\n",
    "df_concatenate_acc = df_concatenate_acc.reset_index(drop=True)\n",
    "df_concatenate_acc.head()"
   ]
  },
  {
   "cell_type": "code",
   "execution_count": null,
   "metadata": {
    "scrolled": true
   },
   "outputs": [],
   "source": [
    "df_concatenate_acc.iloc[0,:-1].plot()"
   ]
  },
  {
   "cell_type": "code",
   "execution_count": null,
   "metadata": {},
   "outputs": [],
   "source": [
    "df_concatenate_fc['speed'] = 80/3.6\n",
    "df_concatenate_acc['speed'] = 80/3.6"
   ]
  },
  {
   "cell_type": "code",
   "execution_count": null,
   "metadata": {},
   "outputs": [],
   "source": [
    "df_concatenate_fc.head()"
   ]
  },
  {
   "cell_type": "code",
   "execution_count": null,
   "metadata": {},
   "outputs": [],
   "source": [
    "def apply_classes(span):\n",
    "    \n",
    "    if span == spn_mat_data[4][0]:\n",
    "        return 'MiddleDropper'\n",
    "    elif span == spn_mat_data[9][0]:\n",
    "        return 'FirstDropper'\n",
    "    elif span == spn_mat_data[6][0]:\n",
    "        return 'MiddleJunctionClamp'\n",
    "    elif span == spn_mat_data[2][0]:\n",
    "        return 'EndJunctionClamp'\n",
    "    elif span == spn_mat_data[7][0] or span == spn_mat_data[11][0]:\n",
    "        return 'endConsol'\n",
    "    elif span == spn_mat_data[8][0] or span == spn_mat_data[10][0]:\n",
    "        return 'startCOnsol'\n",
    "    else:\n",
    "        return 'Baseline'\n",
    "\n",
    "    \n",
    "df_concatenate_fc['classes'] = df_concatenate_fc['span_name'].apply(lambda x: apply_classes(x))\n",
    "df_concatenate_acc['classes'] = df_concatenate_acc['span_name'].apply(lambda x: apply_classes(x))"
   ]
  },
  {
   "cell_type": "code",
   "execution_count": null,
   "metadata": {},
   "outputs": [],
   "source": [
    "df_concatenate_fc['classes'].value_counts()"
   ]
  },
  {
   "cell_type": "code",
   "execution_count": null,
   "metadata": {},
   "outputs": [],
   "source": [
    "df_concatenate_acc['classes'].value_counts()"
   ]
  },
  {
   "cell_type": "code",
   "execution_count": null,
   "metadata": {},
   "outputs": [],
   "source": [
    "df_concatenate_fc.to_csv('../data/interim/fc_160.csv')\n",
    "df_concatenate_acc.to_csv('../data/interim/acc_160.csv')"
   ]
  },
  {
   "cell_type": "markdown",
   "metadata": {},
   "source": [
    "# Field Data preprocess"
   ]
  },
  {
   "cell_type": "code",
   "execution_count": 7,
   "metadata": {},
   "outputs": [],
   "source": [
    "import os\n",
    "import re\n",
    "import numpy as np\n",
    "import pandas as pd\n",
    "from tqdm.notebook import tqdm\n",
    "from scipy.io import loadmat\n",
    "from scipy.signal import detrend\n",
    "import seaborn as sns"
   ]
  },
  {
   "cell_type": "code",
   "execution_count": 2,
   "metadata": {},
   "outputs": [
    {
     "name": "stdout",
     "output_type": "stream",
     "text": [
      "['Y_steady_arm_baseline.mat', 'x23032016_run12_descente_160kmh.mat', 'x23032016_run5_montee_100kmh.mat', 'Y_splicer_baseline.mat', 'extractFeaturesInsights.m', 'Untitled.m', 'x23032016_run3_montee_80kmh.mat', 'x23032016_run7_montee_120kmh.mat', 'x23032016_run13_montee_120kmh.mat', 'x23032016_run9_montee_135kmh.mat', 'x23032016_run10_descente_140kmh.mat', 'x23032016_run4_descente_80kmh.mat', 'x23032016_run11_montee_135kmh.mat', 'Y_dropper_baseline.mat', 'x23032016_run14_descente_120kmh.mat', 'x23032016_run8_descente_120kmh.mat', 'x23032016_run6_descente_100kmh.mat']\n"
     ]
    }
   ],
   "source": [
    "folder_path = '../data/BasedOnFieldData/PreProcessedData/CEF2_23032016_PreProcessed_PK3PK6_Spliced_GPS_Poles'\n",
    "\n",
    "list_files = os.listdir(folder_path)\n",
    "print(list_files)"
   ]
  },
  {
   "cell_type": "code",
   "execution_count": 3,
   "metadata": {},
   "outputs": [],
   "source": [
    "list_files = [file_name for file_name in list_files if 'kmh' in file_name]"
   ]
  },
  {
   "cell_type": "code",
   "execution_count": null,
   "metadata": {},
   "outputs": [],
   "source": [
    "fc_mat_data = loadmat(folder_path + '/x23032016_run12_descente_160kmh.mat')"
   ]
  },
  {
   "cell_type": "code",
   "execution_count": null,
   "metadata": {},
   "outputs": [],
   "source": [
    "span_names = fc_mat_data['MyStruct'][0][0][-1][0]\n",
    "span_names"
   ]
  },
  {
   "cell_type": "code",
   "execution_count": null,
   "metadata": {},
   "outputs": [],
   "source": [
    "for span in span_names:\n",
    "    print(span[0])"
   ]
  },
  {
   "cell_type": "code",
   "execution_count": null,
   "metadata": {},
   "outputs": [],
   "source": [
    "span_data = fc_mat_data['MyStruct'][0][0][-2][0]\n",
    "span_data"
   ]
  },
  {
   "cell_type": "code",
   "execution_count": 15,
   "metadata": {},
   "outputs": [
    {
     "data": {
      "application/vnd.jupyter.widget-view+json": {
       "model_id": "e634920180f244b7b2414ae8396d5777",
       "version_major": 2,
       "version_minor": 0
      },
      "text/plain": [
       "HBox(children=(FloatProgress(value=0.0, max=12.0), HTML(value='')))"
      ]
     },
     "metadata": {},
     "output_type": "display_data"
    },
    {
     "name": "stdout",
     "output_type": "stream",
     "text": [
      "\n"
     ]
    }
   ],
   "source": [
    "df_append = []\n",
    "\n",
    "for file_name in tqdm(list_files):\n",
    "    \n",
    "    relative_path = folder_path + '/' + file_name\n",
    "    mat_file_content = loadmat(relative_path)\n",
    "    \n",
    "    direction = file_name.split('_')[2]\n",
    "    span_names = mat_file_content['MyStruct'][0][0][-1][0]\n",
    "    span_data = mat_file_content['MyStruct'][0][0][-2][0]\n",
    "    \n",
    "    cols = ['ts', 'AARD', 'AARG', 'AAVD', 'AAVG', 'AM', 'Fc', 'Speed']\n",
    "    \n",
    "    df_span_append = []\n",
    "    \n",
    "    for idx_span, span in enumerate(span_names):\n",
    "        \n",
    "        data_span = span_data[idx_span]\n",
    "        \n",
    "        ts = np.arange(0, data_span.shape[0], 1).reshape(-1,1)\n",
    "        AARD = data_span[:, 0].reshape(-1,1)\n",
    "        AARG = data_span[:, 1].reshape(-1,1)\n",
    "        AAVD = data_span[:, 2].reshape(-1,1)\n",
    "        AAVG = data_span[:, 3].reshape(-1,1)\n",
    "        AM = np.mean([AARD, AARG, AAVD, AAVG], axis = 0)\n",
    "        Fc = data_span[:, 13].reshape(-1,1) - np.mean(data_span[:, 13].reshape(-1,1))\n",
    "        Speed = data_span[:, 17].reshape(-1,1)\n",
    "        \n",
    "        \n",
    "        data_selected = np.hstack([ts, AARD, AARG, AAVD, AAVG, AM, Fc, Speed])\n",
    "        \n",
    "        df_span = pd.DataFrame(data = data_selected, columns = cols)\n",
    "        df_span['direction'] = direction\n",
    "        df_span['span'] = span[0]\n",
    "        str_id = file_name.split('_')[1] + '_' + span[0]\n",
    "        df_span['id'] = str_id\n",
    "        \n",
    "        df_span_append.append(df_span)\n",
    "    \n",
    "    df_file = pd.concat(df_span_append)\n",
    "    df_file = df_file.reset_index(drop=True)\n",
    "    \n",
    "    df_append.append(df_file)\n",
    "    \n",
    "\n",
    "df_total = pd.concat(df_append)\n"
   ]
  },
  {
   "cell_type": "code",
   "execution_count": 20,
   "metadata": {},
   "outputs": [
    {
     "data": {
      "text/plain": [
       "<matplotlib.axes._subplots.AxesSubplot at 0x1265f7b10>"
      ]
     },
     "execution_count": 20,
     "metadata": {},
     "output_type": "execute_result"
    },
    {
     "data": {
      "image/png": "[encoded data removed]",
      "text/plain": [
       "<Figure size 432x288 with 1 Axes>"
      ]
     },
     "metadata": {
      "needs_background": "light"
     },
     "output_type": "display_data"
    }
   ],
   "source": [
    "sns.distplot(df_total.Fc)"
   ]
  },
  {
   "cell_type": "code",
   "execution_count": 21,
   "metadata": {},
   "outputs": [
    {
     "data": {
      "text/html": [
       "<div>\n",
       "<style scoped>\n",
       "    .dataframe tbody tr th:only-of-type {\n",
       "        vertical-align: middle;\n",
       "    }\n",
       "\n",
       "    .dataframe tbody tr th {\n",
       "        vertical-align: top;\n",
       "    }\n",
       "\n",
       "    .dataframe thead th {\n",
       "        text-align: right;\n",
       "    }\n",
       "</style>\n",
       "<table border=\"1\" class=\"dataframe\">\n",
       "  <thead>\n",
       "    <tr style=\"text-align: right;\">\n",
       "      <th></th>\n",
       "      <th>ts</th>\n",
       "      <th>AARD</th>\n",
       "      <th>AARG</th>\n",
       "      <th>AAVD</th>\n",
       "      <th>AAVG</th>\n",
       "      <th>AM</th>\n",
       "      <th>Fc</th>\n",
       "      <th>Speed</th>\n",
       "      <th>direction</th>\n",
       "      <th>span</th>\n",
       "      <th>id</th>\n",
       "      <th>classes</th>\n",
       "    </tr>\n",
       "  </thead>\n",
       "  <tbody>\n",
       "    <tr>\n",
       "      <td>0</td>\n",
       "      <td>0.0</td>\n",
       "      <td>-6.569074</td>\n",
       "      <td>-10.717356</td>\n",
       "      <td>-9.113529</td>\n",
       "      <td>-7.193623</td>\n",
       "      <td>-8.398395</td>\n",
       "      <td>-54.558336</td>\n",
       "      <td>160.173004</td>\n",
       "      <td>descente</td>\n",
       "      <td>Span1</td>\n",
       "      <td>run12_Span1</td>\n",
       "      <td>splicer</td>\n",
       "    </tr>\n",
       "    <tr>\n",
       "      <td>1</td>\n",
       "      <td>1.0</td>\n",
       "      <td>-6.883555</td>\n",
       "      <td>-9.547513</td>\n",
       "      <td>-6.912798</td>\n",
       "      <td>-4.473680</td>\n",
       "      <td>-6.954387</td>\n",
       "      <td>-45.205767</td>\n",
       "      <td>160.173004</td>\n",
       "      <td>descente</td>\n",
       "      <td>Span1</td>\n",
       "      <td>run12_Span1</td>\n",
       "      <td>splicer</td>\n",
       "    </tr>\n",
       "    <tr>\n",
       "      <td>2</td>\n",
       "      <td>2.0</td>\n",
       "      <td>-6.022359</td>\n",
       "      <td>-6.864442</td>\n",
       "      <td>-8.345452</td>\n",
       "      <td>-4.435100</td>\n",
       "      <td>-6.416838</td>\n",
       "      <td>-32.390161</td>\n",
       "      <td>160.173004</td>\n",
       "      <td>descente</td>\n",
       "      <td>Span1</td>\n",
       "      <td>run12_Span1</td>\n",
       "      <td>splicer</td>\n",
       "    </tr>\n",
       "    <tr>\n",
       "      <td>3</td>\n",
       "      <td>3.0</td>\n",
       "      <td>-6.869041</td>\n",
       "      <td>-6.433753</td>\n",
       "      <td>-8.650504</td>\n",
       "      <td>-5.939749</td>\n",
       "      <td>-6.973262</td>\n",
       "      <td>-17.743624</td>\n",
       "      <td>160.173004</td>\n",
       "      <td>descente</td>\n",
       "      <td>Span1</td>\n",
       "      <td>run12_Span1</td>\n",
       "      <td>splicer</td>\n",
       "    </tr>\n",
       "    <tr>\n",
       "      <td>4</td>\n",
       "      <td>4.0</td>\n",
       "      <td>-4.662831</td>\n",
       "      <td>-5.525816</td>\n",
       "      <td>-9.712738</td>\n",
       "      <td>-9.759242</td>\n",
       "      <td>-7.415157</td>\n",
       "      <td>-3.026026</td>\n",
       "      <td>160.173004</td>\n",
       "      <td>descente</td>\n",
       "      <td>Span1</td>\n",
       "      <td>run12_Span1</td>\n",
       "      <td>splicer</td>\n",
       "    </tr>\n",
       "  </tbody>\n",
       "</table>\n",
       "</div>"
      ],
      "text/plain": [
       "    ts      AARD       AARG      AAVD      AAVG        AM         Fc  \\\n",
       "0  0.0 -6.569074 -10.717356 -9.113529 -7.193623 -8.398395 -54.558336   \n",
       "1  1.0 -6.883555  -9.547513 -6.912798 -4.473680 -6.954387 -45.205767   \n",
       "2  2.0 -6.022359  -6.864442 -8.345452 -4.435100 -6.416838 -32.390161   \n",
       "3  3.0 -6.869041  -6.433753 -8.650504 -5.939749 -6.973262 -17.743624   \n",
       "4  4.0 -4.662831  -5.525816 -9.712738 -9.759242 -7.415157  -3.026026   \n",
       "\n",
       "        Speed direction   span           id  classes  \n",
       "0  160.173004  descente  Span1  run12_Span1  splicer  \n",
       "1  160.173004  descente  Span1  run12_Span1  splicer  \n",
       "2  160.173004  descente  Span1  run12_Span1  splicer  \n",
       "3  160.173004  descente  Span1  run12_Span1  splicer  \n",
       "4  160.173004  descente  Span1  run12_Span1  splicer  "
      ]
     },
     "execution_count": 21,
     "metadata": {},
     "output_type": "execute_result"
    }
   ],
   "source": [
    "df_total.head()"
   ]
  },
  {
   "cell_type": "code",
   "execution_count": 22,
   "metadata": {},
   "outputs": [],
   "source": [
    "def span_to_class(span):\n",
    "    \n",
    "    if span == 'Span3' or span == 'Span9':\n",
    "        return 'Dropper'\n",
    "    elif span == 'Span1' or span == 'Span5':\n",
    "        return 'splicer'\n",
    "    elif span == 'Span6' or span == 'Span7' or span == 'Span11' or span == 'Span12':\n",
    "        return 'steadyArm'\n",
    "    else:\n",
    "        return 'Baseline'\n",
    "\n",
    "df_total['classes'] =  df_total['span'].apply(lambda x: span_to_class(x))"
   ]
  },
  {
   "cell_type": "code",
   "execution_count": 23,
   "metadata": {},
   "outputs": [
    {
     "data": {
      "text/html": [
       "<div>\n",
       "<style scoped>\n",
       "    .dataframe tbody tr th:only-of-type {\n",
       "        vertical-align: middle;\n",
       "    }\n",
       "\n",
       "    .dataframe tbody tr th {\n",
       "        vertical-align: top;\n",
       "    }\n",
       "\n",
       "    .dataframe thead th {\n",
       "        text-align: right;\n",
       "    }\n",
       "</style>\n",
       "<table border=\"1\" class=\"dataframe\">\n",
       "  <thead>\n",
       "    <tr style=\"text-align: right;\">\n",
       "      <th></th>\n",
       "      <th>ts</th>\n",
       "      <th>AARD</th>\n",
       "      <th>AARG</th>\n",
       "      <th>AAVD</th>\n",
       "      <th>AAVG</th>\n",
       "      <th>AM</th>\n",
       "      <th>Fc</th>\n",
       "      <th>Speed</th>\n",
       "      <th>direction</th>\n",
       "      <th>span</th>\n",
       "      <th>id</th>\n",
       "      <th>classes</th>\n",
       "    </tr>\n",
       "  </thead>\n",
       "  <tbody>\n",
       "    <tr>\n",
       "      <td>0</td>\n",
       "      <td>0.0</td>\n",
       "      <td>-6.569074</td>\n",
       "      <td>-10.717356</td>\n",
       "      <td>-9.113529</td>\n",
       "      <td>-7.193623</td>\n",
       "      <td>-8.398395</td>\n",
       "      <td>-54.558336</td>\n",
       "      <td>160.173004</td>\n",
       "      <td>descente</td>\n",
       "      <td>Span1</td>\n",
       "      <td>run12_Span1</td>\n",
       "      <td>splicer</td>\n",
       "    </tr>\n",
       "    <tr>\n",
       "      <td>1</td>\n",
       "      <td>1.0</td>\n",
       "      <td>-6.883555</td>\n",
       "      <td>-9.547513</td>\n",
       "      <td>-6.912798</td>\n",
       "      <td>-4.473680</td>\n",
       "      <td>-6.954387</td>\n",
       "      <td>-45.205767</td>\n",
       "      <td>160.173004</td>\n",
       "      <td>descente</td>\n",
       "      <td>Span1</td>\n",
       "      <td>run12_Span1</td>\n",
       "      <td>splicer</td>\n",
       "    </tr>\n",
       "    <tr>\n",
       "      <td>2</td>\n",
       "      <td>2.0</td>\n",
       "      <td>-6.022359</td>\n",
       "      <td>-6.864442</td>\n",
       "      <td>-8.345452</td>\n",
       "      <td>-4.435100</td>\n",
       "      <td>-6.416838</td>\n",
       "      <td>-32.390161</td>\n",
       "      <td>160.173004</td>\n",
       "      <td>descente</td>\n",
       "      <td>Span1</td>\n",
       "      <td>run12_Span1</td>\n",
       "      <td>splicer</td>\n",
       "    </tr>\n",
       "    <tr>\n",
       "      <td>3</td>\n",
       "      <td>3.0</td>\n",
       "      <td>-6.869041</td>\n",
       "      <td>-6.433753</td>\n",
       "      <td>-8.650504</td>\n",
       "      <td>-5.939749</td>\n",
       "      <td>-6.973262</td>\n",
       "      <td>-17.743624</td>\n",
       "      <td>160.173004</td>\n",
       "      <td>descente</td>\n",
       "      <td>Span1</td>\n",
       "      <td>run12_Span1</td>\n",
       "      <td>splicer</td>\n",
       "    </tr>\n",
       "    <tr>\n",
       "      <td>4</td>\n",
       "      <td>4.0</td>\n",
       "      <td>-4.662831</td>\n",
       "      <td>-5.525816</td>\n",
       "      <td>-9.712738</td>\n",
       "      <td>-9.759242</td>\n",
       "      <td>-7.415157</td>\n",
       "      <td>-3.026026</td>\n",
       "      <td>160.173004</td>\n",
       "      <td>descente</td>\n",
       "      <td>Span1</td>\n",
       "      <td>run12_Span1</td>\n",
       "      <td>splicer</td>\n",
       "    </tr>\n",
       "  </tbody>\n",
       "</table>\n",
       "</div>"
      ],
      "text/plain": [
       "    ts      AARD       AARG      AAVD      AAVG        AM         Fc  \\\n",
       "0  0.0 -6.569074 -10.717356 -9.113529 -7.193623 -8.398395 -54.558336   \n",
       "1  1.0 -6.883555  -9.547513 -6.912798 -4.473680 -6.954387 -45.205767   \n",
       "2  2.0 -6.022359  -6.864442 -8.345452 -4.435100 -6.416838 -32.390161   \n",
       "3  3.0 -6.869041  -6.433753 -8.650504 -5.939749 -6.973262 -17.743624   \n",
       "4  4.0 -4.662831  -5.525816 -9.712738 -9.759242 -7.415157  -3.026026   \n",
       "\n",
       "        Speed direction   span           id  classes  \n",
       "0  160.173004  descente  Span1  run12_Span1  splicer  \n",
       "1  160.173004  descente  Span1  run12_Span1  splicer  \n",
       "2  160.173004  descente  Span1  run12_Span1  splicer  \n",
       "3  160.173004  descente  Span1  run12_Span1  splicer  \n",
       "4  160.173004  descente  Span1  run12_Span1  splicer  "
      ]
     },
     "execution_count": 23,
     "metadata": {},
     "output_type": "execute_result"
    }
   ],
   "source": [
    "df_total.head()"
   ]
  },
  {
   "cell_type": "code",
   "execution_count": null,
   "metadata": {},
   "outputs": [],
   "source": [
    "df_total.to_csv('../data/interim/field_data.csv')"
   ]
  },
  {
   "cell_type": "code",
   "execution_count": null,
   "metadata": {},
   "outputs": [],
   "source": []
  }
 ],
 "metadata": {
  "kernelspec": {
   "display_name": "Python 3",
   "language": "python",
   "name": "python3"
  },
  "language_info": {
   "codemirror_mode": {
    "name": "ipython",
    "version": 3
   },
   "file_extension": ".py",
   "mimetype": "text/x-python",
   "name": "python",
   "nbconvert_exporter": "python",
   "pygments_lexer": "ipython3",
   "version": "3.7.4"
  }
 },
 "nbformat": 4,
 "nbformat_minor": 4
}
